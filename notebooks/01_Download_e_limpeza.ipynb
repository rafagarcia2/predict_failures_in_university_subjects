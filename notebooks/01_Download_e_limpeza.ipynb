{
 "cells": [
  {
   "cell_type": "code",
   "execution_count": 2,
   "metadata": {},
   "outputs": [],
   "source": [
    "import pandas as pd\n",
    "import requests\n"
   ]
  },
  {
   "cell_type": "markdown",
   "metadata": {},
   "source": [
    "### Declarando Algumas Funções utilitarias"
   ]
  },
  {
   "cell_type": "code",
   "execution_count": 11,
   "metadata": {},
   "outputs": [],
   "source": [
    "#Declaração de algumas fuções utilitarias\n",
    "\n",
    "def download_csv(ulrs_dict, folder = \"data\"):\n",
    "        \"\"\"\n",
    "        Faz o download de arquivos csv dado um decionário de URL's e salva em uma pasta definida\n",
    "        Args:\n",
    "                urls_dict (dic): Dicionário com as URL's de Download. Por padrão a pasta será \"data\"\n",
    "                folder (str): Nome da pasta que o arquivo csv deve ser inserido \n",
    "        Return:\n",
    "                void.\n",
    "        \n",
    "        \"\"\"\n",
    "        try:\n",
    "                for key in ulrs_dict:\n",
    "                        req = requests.get(ulrs_dict[key])\n",
    "                        url_content = req.content\n",
    " \n",
    "                        csv_file = open('{}/{}.csv'.format(folder,key), 'wb')\n",
    "                        csv_file.write(url_content)\n",
    "                        csv_file.close()\n",
    "        except:\n",
    "                print(\"Something Wrong!\")\n",
    "                exit()\n",
    "                \n",
    "        print(\"Downloaded!!\")\n",
    "\n",
    "def csv_df(urls_dict, folder=\"data\"):\n",
    "\n",
    "        \"\"\"\n",
    "        Cria dataframes dado uma pasta com os csv's  no seguinte pafrão : [nome_do_csv]_[periodo_de_referencia]\n",
    "        Args:\n",
    "                urls_dict (dic): Dicionário com as URL's de Download.\n",
    "                folder (str): Nome da pasta onde estão os arquivos. Por padrão a pasta será \"data\"\n",
    "        Return:\n",
    "                df (Dataframe): dataframe com a combinação de todos os csv's inseridos\n",
    "        \n",
    "        \"\"\"\n",
    "        df = pd.DataFrame()\n",
    "\n",
    "        for key in urls_dict:\n",
    "                csv_dataframe = pd.read_csv(\"{}/{}.csv\".format(folder, key), sep=\";\")\n",
    "                csv_dataframe['semestre'] = key[-6:]\n",
    "        \n",
    "                df = df.append(csv_dataframe, ignore_index=True)\n",
    "                \n",
    "        print(\"Converted!\")\n",
    "        return df\n",
    "    "
   ]
  },
  {
   "cell_type": "markdown",
   "metadata": {},
   "source": [
    "### Load dos csvs de matrículas"
   ]
  },
  {
   "cell_type": "code",
   "execution_count": 28,
   "metadata": {},
   "outputs": [
    {
     "name": "stdout",
     "output_type": "stream",
     "text": [
      "Downloaded!!\n",
      "Converted!\n"
     ]
    }
   ],
   "source": [
    "urls_matriculas = {\n",
    "        \"Matriculas_2017_1\": \"https://dados.ufrn.br/dataset/c8650d55-3c5a-4787-a126-d28a4ef902a6/resource/79071c21-e32c-438f-b930-d1b6ccc02ec2/download/matricula-componente-20171.csv\",\n",
    "        \"Matriculas_2017_2\": \"https://dados.ufrn.br/dataset/c8650d55-3c5a-4787-a126-d28a4ef902a6/resource/55dfe713-ff7c-4fa8-8d1d-d4294a025bff/download/matricula-componente-20172.csv\",\n",
    "        \"Matriculas_2018_1\": \"https://dados.ufrn.br/dataset/c8650d55-3c5a-4787-a126-d28a4ef902a6/resource/3c1feba4-ced1-466e-8e94-a040224a51dc/download/matricula-componente-20181.csv\",\n",
    "        \"Matriculas_2018_2\": \"https://dados.ufrn.br/dataset/c8650d55-3c5a-4787-a126-d28a4ef902a6/resource/0bfcaf6a-4424-4983-8ba8-d330350a8fbe/download/matricula-componente-20182.csv\",\n",
    "        \"Matriculas_2019_1\": \"https://dados.ufrn.br/dataset/c8650d55-3c5a-4787-a126-d28a4ef902a6/resource/6d66d15a-8d0f-43a3-902b-d314f4a2a296/download/matricula-componente-20191.csv\",\n",
    "        \"Matriculas_2019_2\": \"https://dados.ufrn.br/dataset/c8650d55-3c5a-4787-a126-d28a4ef902a6/resource/0d573a4f-de65-4c3d-b6bb-337473bc4e44/download/matricula-componente-20192.csv\",\n",
    "}\n",
    "\n",
    "download_csv(urls_matriculas)\n",
    "\n",
    "matriculas = csv_df(urls_matriculas)\n",
    "\n"
   ]
  },
  {
   "cell_type": "code",
   "execution_count": 29,
   "metadata": {},
   "outputs": [],
   "source": [
    "# Separando Amostra de interesse:\n",
    "\n",
    "# ID do Curso BCH em Ciências e tecnologia = 10320810\n",
    "id_cet = 10320810\n",
    "matriculas_cet = matriculas[matriculas.id_curso == id_cet]\n"
   ]
  },
  {
   "cell_type": "code",
   "execution_count": 30,
   "metadata": {},
   "outputs": [
    {
     "data": {
      "text/html": [
       "<div>\n",
       "<style scoped>\n",
       "    .dataframe tbody tr th:only-of-type {\n",
       "        vertical-align: middle;\n",
       "    }\n",
       "\n",
       "    .dataframe tbody tr th {\n",
       "        vertical-align: top;\n",
       "    }\n",
       "\n",
       "    .dataframe thead th {\n",
       "        text-align: right;\n",
       "    }\n",
       "</style>\n",
       "<table border=\"1\" class=\"dataframe\">\n",
       "  <thead>\n",
       "    <tr style=\"text-align: right;\">\n",
       "      <th></th>\n",
       "      <th>id_turma</th>\n",
       "      <th>discente</th>\n",
       "      <th>id_curso</th>\n",
       "      <th>unidade</th>\n",
       "      <th>nota</th>\n",
       "      <th>reposicao</th>\n",
       "      <th>faltas_unidade</th>\n",
       "      <th>media_final</th>\n",
       "      <th>numero_total_faltas</th>\n",
       "      <th>descricao</th>\n",
       "      <th>semestre</th>\n",
       "    </tr>\n",
       "  </thead>\n",
       "  <tbody>\n",
       "    <tr>\n",
       "      <th>2029</th>\n",
       "      <td>57595855</td>\n",
       "      <td>f0c7c3318b35fc401e6336a17d5a65f5</td>\n",
       "      <td>10320810.0</td>\n",
       "      <td>1.0</td>\n",
       "      <td>8,7</td>\n",
       "      <td>False</td>\n",
       "      <td>0.0</td>\n",
       "      <td>8,7</td>\n",
       "      <td>0.0</td>\n",
       "      <td>APROVADO</td>\n",
       "      <td>Matriculas_2017_1</td>\n",
       "    </tr>\n",
       "    <tr>\n",
       "      <th>2036</th>\n",
       "      <td>57595855</td>\n",
       "      <td>f0c7c3318b35fc401e6336a17d5a65f5</td>\n",
       "      <td>10320810.0</td>\n",
       "      <td>1.0</td>\n",
       "      <td>8,7</td>\n",
       "      <td>False</td>\n",
       "      <td>0.0</td>\n",
       "      <td>8,7</td>\n",
       "      <td>0.0</td>\n",
       "      <td>APROVADO</td>\n",
       "      <td>Matriculas_2017_1</td>\n",
       "    </tr>\n",
       "    <tr>\n",
       "      <th>2256</th>\n",
       "      <td>57593882</td>\n",
       "      <td>07eecfa5017ee1bd146e87d5d5f3ce3a</td>\n",
       "      <td>10320810.0</td>\n",
       "      <td>3.0</td>\n",
       "      <td>5,9</td>\n",
       "      <td>False</td>\n",
       "      <td>0.0</td>\n",
       "      <td>7,2</td>\n",
       "      <td>0.0</td>\n",
       "      <td>APROVADO</td>\n",
       "      <td>Matriculas_2017_1</td>\n",
       "    </tr>\n",
       "    <tr>\n",
       "      <th>2257</th>\n",
       "      <td>57593882</td>\n",
       "      <td>07eecfa5017ee1bd146e87d5d5f3ce3a</td>\n",
       "      <td>10320810.0</td>\n",
       "      <td>2.0</td>\n",
       "      <td>7,7</td>\n",
       "      <td>False</td>\n",
       "      <td>0.0</td>\n",
       "      <td>7,2</td>\n",
       "      <td>0.0</td>\n",
       "      <td>APROVADO</td>\n",
       "      <td>Matriculas_2017_1</td>\n",
       "    </tr>\n",
       "    <tr>\n",
       "      <th>2258</th>\n",
       "      <td>57593882</td>\n",
       "      <td>07eecfa5017ee1bd146e87d5d5f3ce3a</td>\n",
       "      <td>10320810.0</td>\n",
       "      <td>1.0</td>\n",
       "      <td>8,1</td>\n",
       "      <td>False</td>\n",
       "      <td>0.0</td>\n",
       "      <td>7,2</td>\n",
       "      <td>0.0</td>\n",
       "      <td>APROVADO</td>\n",
       "      <td>Matriculas_2017_1</td>\n",
       "    </tr>\n",
       "  </tbody>\n",
       "</table>\n",
       "</div>"
      ],
      "text/plain": [
       "      id_turma                          discente    id_curso  unidade nota  \\\n",
       "2029  57595855  f0c7c3318b35fc401e6336a17d5a65f5  10320810.0      1.0  8,7   \n",
       "2036  57595855  f0c7c3318b35fc401e6336a17d5a65f5  10320810.0      1.0  8,7   \n",
       "2256  57593882  07eecfa5017ee1bd146e87d5d5f3ce3a  10320810.0      3.0  5,9   \n",
       "2257  57593882  07eecfa5017ee1bd146e87d5d5f3ce3a  10320810.0      2.0  7,7   \n",
       "2258  57593882  07eecfa5017ee1bd146e87d5d5f3ce3a  10320810.0      1.0  8,1   \n",
       "\n",
       "     reposicao  faltas_unidade media_final  numero_total_faltas descricao  \\\n",
       "2029     False             0.0         8,7                  0.0  APROVADO   \n",
       "2036     False             0.0         8,7                  0.0  APROVADO   \n",
       "2256     False             0.0         7,2                  0.0  APROVADO   \n",
       "2257     False             0.0         7,2                  0.0  APROVADO   \n",
       "2258     False             0.0         7,2                  0.0  APROVADO   \n",
       "\n",
       "               semestre  \n",
       "2029  Matriculas_2017_1  \n",
       "2036  Matriculas_2017_1  \n",
       "2256  Matriculas_2017_1  \n",
       "2257  Matriculas_2017_1  \n",
       "2258  Matriculas_2017_1  "
      ]
     },
     "execution_count": 30,
     "metadata": {},
     "output_type": "execute_result"
    }
   ],
   "source": [
    "matriculas_cet.head()"
   ]
  },
  {
   "cell_type": "markdown",
   "metadata": {},
   "source": [
    "### Load dos csvs das turmas ofertadas"
   ]
  },
  {
   "cell_type": "code",
   "execution_count": 31,
   "metadata": {},
   "outputs": [
    {
     "name": "stdout",
     "output_type": "stream",
     "text": [
      "Downloaded!!\n",
      "Converted!\n"
     ]
    }
   ],
   "source": [
    "urls_turmas = {\n",
    "        \"Turmas_2017_1\": \"https://dados.ufrn.br/dataset/1938623d-fb07-41a4-a55a-1691f7c3b8b5/resource/5e77d066-d506-45eb-a21e-76aa79616fef/download/turmas-2017.1.csv\",\n",
    "        \"Turmas_2017_2\": \"https://dados.ufrn.br/dataset/1938623d-fb07-41a4-a55a-1691f7c3b8b5/resource/01fe7343-fdf0-4a67-b915-2386b7c2fecb/download/turmas-2017.2.csv\",\n",
    "        \"Turmas_2018_1\": \"https://dados.ufrn.br/dataset/1938623d-fb07-41a4-a55a-1691f7c3b8b5/resource/3ae16138-4214-4a30-ac2d-6cffd6237031/download/turmas-2018.1.csv\",\n",
    "        \"Turmas_2018_2\": \"https://dados.ufrn.br/dataset/1938623d-fb07-41a4-a55a-1691f7c3b8b5/resource/77fe7603-0e71-4e21-8cd4-cb823353023f/download/turmas-2018.2.csv\",\n",
    "        \"Turmas_2019_1\": \"https://dados.ufrn.br/dataset/1938623d-fb07-41a4-a55a-1691f7c3b8b5/resource/1e42cd66-69d6-48d5-a346-d46766fd2c9c/download/turmas-2019.1.csv\",\n",
    "        \"Turmas_2019_2\": \"https://dados.ufrn.br/dataset/1938623d-fb07-41a4-a55a-1691f7c3b8b5/resource/d9c2863e-d1b2-4afd-b7dd-09517d5ed17d/download/turmas-2019.2.csv\"\n",
    "}\n",
    "\n",
    "download_csv(urls_turmas)\n",
    "turmas = csv_df(urls_turmas)"
   ]
  },
  {
   "cell_type": "code",
   "execution_count": 32,
   "metadata": {},
   "outputs": [],
   "source": [
    "#Filtrando colunas de interesse \n",
    "\n",
    "columns_sel = ['id_turma', 'id_componente_curricular','siape', 'semestre', 'situacao_turma']\n",
    "\n",
    "turmas = turmas.loc[:, columns_sel]"
   ]
  },
  {
   "cell_type": "code",
   "execution_count": 33,
   "metadata": {},
   "outputs": [],
   "source": [
    "# Selecionando apenas as turmas de CET\n",
    "id_turmas_cet = matriculas_cet.id_turma.unique()\n",
    "turmas_cet = turmas[turmas.id_turma.isin(id_turmas_cet)]"
   ]
  },
  {
   "cell_type": "markdown",
   "metadata": {},
   "source": [
    "### Load do csv de componentes curriculares "
   ]
  },
  {
   "cell_type": "code",
   "execution_count": 34,
   "metadata": {},
   "outputs": [
    {
     "name": "stdout",
     "output_type": "stream",
     "text": [
      "Downloaded!!\n",
      "Converted!\n"
     ]
    }
   ],
   "source": [
    "url_componentes_curriculares = {\n",
    "        \"ComponentesCurriculares\" : \"https://dados.ufrn.br/dataset/3fea67e8-6916-4ed0-aaa6-9a8ca06a9bdc/resource/9a3521d2-4bc5-4fda-93f0-f701c8a20727/download/componentes-curriculares-presenciais.csv\"\n",
    "        }\n",
    "\n",
    "download_csv(url_componentes_curriculares)\n",
    "componentes_curriculares = csv_df(url_componentes_curriculares)"
   ]
  },
  {
   "cell_type": "markdown",
   "metadata": {},
   "source": [
    "### Filtragens e manipulações"
   ]
  },
  {
   "cell_type": "code",
   "execution_count": 35,
   "metadata": {},
   "outputs": [],
   "source": [
    "# Selecionando os componentes curriculares de Cet\n",
    "cc_ect = componentes_curriculares[componentes_curriculares.unidade_responsavel == 'ESCOLA DE CIÊNCIAS E TECNOLOGIA']"
   ]
  },
  {
   "cell_type": "code",
   "execution_count": 36,
   "metadata": {},
   "outputs": [],
   "source": [
    "# Juntando com o dataframe de turmas ofertadas \n",
    "turmas_cet_cc = turmas_cet.merge(cc_ect, how=\"inner\", left_on=\"id_componente_curricular\", right_on=\"id_componente\")"
   ]
  },
  {
   "cell_type": "code",
   "execution_count": 37,
   "metadata": {},
   "outputs": [],
   "source": [
    "# Selecionando dados das turmas de interesse\n",
    "disciplinas_desejadas_nome = ['PRÉ-CÁLCULO', 'VETORES E GEOMETRIA ANALÍTICA', 'CÁLCULO I', 'CÁLCULO II']\n",
    "\n",
    "turmas_cet_interesse = turmas_cet_cc[turmas_cet_cc.nome.isin(disciplinas_desejadas_nome)]"
   ]
  },
  {
   "cell_type": "code",
   "execution_count": 38,
   "metadata": {},
   "outputs": [],
   "source": [
    "#Montando dataset com as matrículas das turmas de interesse\n",
    "\n",
    "matriculas_selecionadas = matriculas_cet.merge(turmas_cet_interesse, on=\"id_turma\")"
   ]
  },
  {
   "cell_type": "code",
   "execution_count": 39,
   "metadata": {},
   "outputs": [],
   "source": [
    "# Excluindo status indesejáveis\n",
    "status_indesejados = ['INDEFERIDO', 'EXCLUIDA', 'TRANCADO', 'DESISTENCIA', 'CANCELADO']\n",
    "\n",
    "matriculas_selecionadas = matriculas_selecionadas[~matriculas_selecionadas.descricao.isin(status_indesejados)]"
   ]
  },
  {
   "cell_type": "markdown",
   "metadata": {},
   "source": [
    "## Salvando os dados"
   ]
  },
  {
   "cell_type": "code",
   "execution_count": 45,
   "metadata": {},
   "outputs": [
    {
     "name": "stdout",
     "output_type": "stream",
     "text": [
      "['descricao', 'discente', 'faltas_unidade', 'id_curso', 'id_turma', 'media_final', 'nota', 'numero_total_faltas', 'reposicao', 'unidade']\n"
     ]
    }
   ],
   "source": [
    "cols = ['descricao', 'discente', 'faltas_unidade', 'id_curso', 'id_turma', 'media_final', 'nota', 'numero_total_faltas', 'reposicao', 'unidade']"
   ]
  },
  {
   "cell_type": "code",
   "execution_count": 52,
   "metadata": {},
   "outputs": [],
   "source": [
    "matriculas_selecionadas[cols].to_csv(f\"data/matriculas_geral_pos_limpeza.csv\", sep=\";\", index=False)"
   ]
  },
  {
   "cell_type": "code",
   "execution_count": 66,
   "metadata": {},
   "outputs": [],
   "source": [
    "turmas_cet_cc.rename(columns={\n",
    "    \"siape\": \"id_docente_interno\",\n",
    "    \"semestre_x\": \"ano_periodo\"\n",
    "}, inplace=True)"
   ]
  },
  {
   "cell_type": "code",
   "execution_count": 57,
   "metadata": {},
   "outputs": [],
   "source": [
    "cols = ['id_turma', 'id_componente_curricular', 'id_docente_interno', 'ano_periodo', 'situacao_turma']"
   ]
  },
  {
   "cell_type": "code",
   "execution_count": 68,
   "metadata": {},
   "outputs": [],
   "source": [
    "turmas_cet_cc[cols].to_csv(\"data/turmas_geral_pos_limpeza.csv\", sep=\";\")"
   ]
  }
 ],
 "metadata": {
  "interpreter": {
   "hash": "916dbcbb3f70747c44a77c7bcd40155683ae19c65e1c03b4aa3499c5328201f1"
  },
  "kernelspec": {
   "display_name": "Python 3.8.10 64-bit",
   "language": "python",
   "name": "python3"
  },
  "language_info": {
   "codemirror_mode": {
    "name": "ipython",
    "version": 3
   },
   "file_extension": ".py",
   "mimetype": "text/x-python",
   "name": "python",
   "nbconvert_exporter": "python",
   "pygments_lexer": "ipython3",
   "version": "3.8.10"
  },
  "orig_nbformat": 4
 },
 "nbformat": 4,
 "nbformat_minor": 2
}
