{
 "cells": [
  {
   "cell_type": "markdown",
   "metadata": {},
   "source": [
    "# Preparação dos dados\n",
    "Nesse notebook vamos preparar os dados que utilizaremos ao longo do desenvolvimento do projeto. Os datasets aqui utilizados são importados do portal de dados abertos da UFRN (http://dados.ufrn.br/).\n",
    "\n",
    "Para esse estudo, analisaremos apenas os dados do curso de Ciência e Tecnologia da UFRN, mais espeficamente a disciplina de Cálculo 2, onde tentaremos prever as possiveis reprovações dos alunos se baseando em seu histórico e na nota da primeira unidade na disciplina."
   ]
  },
  {
   "cell_type": "code",
   "execution_count": 1,
   "metadata": {},
   "outputs": [],
   "source": [
    "# Importing the libraries\n",
    "import numpy as np\n",
    "import matplotlib.pyplot as plt\n",
    "import pandas as pd"
   ]
  },
  {
   "cell_type": "markdown",
   "metadata": {},
   "source": [
    "### Importando os dados\n",
    "Vamos importar e já separar os escolhidos."
   ]
  },
  {
   "cell_type": "code",
   "execution_count": 2,
   "metadata": {},
   "outputs": [],
   "source": [
    "lista_anos_analisados = ['20151', '20152', '20161', '20162', '20171', '20172'] # 20172 vai ficar para validação\n",
    "\n",
    "matriculas_geral = pd.read_csv(f\"data/matriculas_geral_pos_limpeza.csv\", sep=\";\")\n",
    "# matriculas_geral = pd.DataFrame()\n",
    "# for ano in lista_anos_analisados:\n",
    "#     matriculas = pd.read_csv(f\"data/matriculas_pos_limpeza_{ano}.csv\", sep=\";\")\n",
    "    \n",
    "#     matriculas_geral = pd.concat([matriculas_geral, matriculas])"
   ]
  },
  {
   "cell_type": "code",
   "execution_count": 3,
   "metadata": {},
   "outputs": [
    {
     "data": {
      "text/plain": [
       "(46248, 10)"
      ]
     },
     "execution_count": 3,
     "metadata": {},
     "output_type": "execute_result"
    }
   ],
   "source": [
    "matriculas_geral.shape"
   ]
  },
  {
   "cell_type": "code",
   "execution_count": 4,
   "metadata": {},
   "outputs": [
    {
     "data": {
      "text/html": [
       "<div>\n",
       "<style scoped>\n",
       "    .dataframe tbody tr th:only-of-type {\n",
       "        vertical-align: middle;\n",
       "    }\n",
       "\n",
       "    .dataframe tbody tr th {\n",
       "        vertical-align: top;\n",
       "    }\n",
       "\n",
       "    .dataframe thead th {\n",
       "        text-align: right;\n",
       "    }\n",
       "</style>\n",
       "<table border=\"1\" class=\"dataframe\">\n",
       "  <thead>\n",
       "    <tr style=\"text-align: right;\">\n",
       "      <th></th>\n",
       "      <th>descricao</th>\n",
       "      <th>discente</th>\n",
       "      <th>faltas_unidade</th>\n",
       "      <th>id_curso</th>\n",
       "      <th>id_turma</th>\n",
       "      <th>media_final</th>\n",
       "      <th>nota</th>\n",
       "      <th>numero_total_faltas</th>\n",
       "      <th>reposicao</th>\n",
       "      <th>unidade</th>\n",
       "    </tr>\n",
       "  </thead>\n",
       "  <tbody>\n",
       "    <tr>\n",
       "      <th>0</th>\n",
       "      <td>REPROVADO POR MÉDIA E POR FALTAS</td>\n",
       "      <td>397100d23a3bdd6ef9443f04e5de1d27</td>\n",
       "      <td>0.0</td>\n",
       "      <td>10320810.0</td>\n",
       "      <td>57595053</td>\n",
       "      <td>0,0</td>\n",
       "      <td>0,0</td>\n",
       "      <td>52.0</td>\n",
       "      <td>False</td>\n",
       "      <td>2.0</td>\n",
       "    </tr>\n",
       "    <tr>\n",
       "      <th>1</th>\n",
       "      <td>REPROVADO POR MÉDIA E POR FALTAS</td>\n",
       "      <td>397100d23a3bdd6ef9443f04e5de1d27</td>\n",
       "      <td>0.0</td>\n",
       "      <td>10320810.0</td>\n",
       "      <td>57595053</td>\n",
       "      <td>0,0</td>\n",
       "      <td>0,0</td>\n",
       "      <td>52.0</td>\n",
       "      <td>False</td>\n",
       "      <td>3.0</td>\n",
       "    </tr>\n",
       "    <tr>\n",
       "      <th>2</th>\n",
       "      <td>REPROVADO POR MÉDIA E POR FALTAS</td>\n",
       "      <td>397100d23a3bdd6ef9443f04e5de1d27</td>\n",
       "      <td>0.0</td>\n",
       "      <td>10320810.0</td>\n",
       "      <td>57595053</td>\n",
       "      <td>0,0</td>\n",
       "      <td>0,1</td>\n",
       "      <td>52.0</td>\n",
       "      <td>False</td>\n",
       "      <td>1.0</td>\n",
       "    </tr>\n",
       "    <tr>\n",
       "      <th>3</th>\n",
       "      <td>REPROVADO POR MÉDIA E POR FALTAS</td>\n",
       "      <td>998389a2499babdb2d03932164699f2f</td>\n",
       "      <td>0.0</td>\n",
       "      <td>10320810.0</td>\n",
       "      <td>57595053</td>\n",
       "      <td>0,0</td>\n",
       "      <td>0,0</td>\n",
       "      <td>60.0</td>\n",
       "      <td>False</td>\n",
       "      <td>1.0</td>\n",
       "    </tr>\n",
       "    <tr>\n",
       "      <th>4</th>\n",
       "      <td>REPROVADO POR MÉDIA E POR FALTAS</td>\n",
       "      <td>998389a2499babdb2d03932164699f2f</td>\n",
       "      <td>0.0</td>\n",
       "      <td>10320810.0</td>\n",
       "      <td>57595053</td>\n",
       "      <td>0,0</td>\n",
       "      <td>0,0</td>\n",
       "      <td>60.0</td>\n",
       "      <td>False</td>\n",
       "      <td>2.0</td>\n",
       "    </tr>\n",
       "  </tbody>\n",
       "</table>\n",
       "</div>"
      ],
      "text/plain": [
       "                          descricao                          discente  \\\n",
       "0  REPROVADO POR MÉDIA E POR FALTAS  397100d23a3bdd6ef9443f04e5de1d27   \n",
       "1  REPROVADO POR MÉDIA E POR FALTAS  397100d23a3bdd6ef9443f04e5de1d27   \n",
       "2  REPROVADO POR MÉDIA E POR FALTAS  397100d23a3bdd6ef9443f04e5de1d27   \n",
       "3  REPROVADO POR MÉDIA E POR FALTAS  998389a2499babdb2d03932164699f2f   \n",
       "4  REPROVADO POR MÉDIA E POR FALTAS  998389a2499babdb2d03932164699f2f   \n",
       "\n",
       "   faltas_unidade    id_curso  id_turma media_final nota  numero_total_faltas  \\\n",
       "0             0.0  10320810.0  57595053         0,0  0,0                 52.0   \n",
       "1             0.0  10320810.0  57595053         0,0  0,0                 52.0   \n",
       "2             0.0  10320810.0  57595053         0,0  0,1                 52.0   \n",
       "3             0.0  10320810.0  57595053         0,0  0,0                 60.0   \n",
       "4             0.0  10320810.0  57595053         0,0  0,0                 60.0   \n",
       "\n",
       "   reposicao  unidade  \n",
       "0      False      2.0  \n",
       "1      False      3.0  \n",
       "2      False      1.0  \n",
       "3      False      1.0  \n",
       "4      False      2.0  "
      ]
     },
     "execution_count": 4,
     "metadata": {},
     "output_type": "execute_result"
    }
   ],
   "source": [
    "matriculas_geral.head()"
   ]
  },
  {
   "cell_type": "code",
   "execution_count": 5,
   "metadata": {},
   "outputs": [
    {
     "data": {
      "text/plain": [
       "Index(['descricao', 'discente', 'faltas_unidade', 'id_curso', 'id_turma',\n",
       "       'media_final', 'nota', 'numero_total_faltas', 'reposicao', 'unidade'],\n",
       "      dtype='object')"
      ]
     },
     "execution_count": 5,
     "metadata": {},
     "output_type": "execute_result"
    }
   ],
   "source": [
    "matriculas_geral.columns"
   ]
  },
  {
   "cell_type": "code",
   "execution_count": 6,
   "metadata": {},
   "outputs": [
    {
     "data": {
      "text/plain": [
       "REPROVADO                           21285\n",
       "APROVADO POR NOTA                   11553\n",
       "REPROVADO POR MÉDIA E POR FALTAS     7773\n",
       "APROVADO                             5556\n",
       "REPROVADO POR NOTA                     75\n",
       "REPROVADO POR FALTAS                    3\n",
       "REPROVADO POR NOTA E FALTA              3\n",
       "Name: descricao, dtype: int64"
      ]
     },
     "execution_count": 6,
     "metadata": {},
     "output_type": "execute_result"
    }
   ],
   "source": [
    "matriculas_geral.descricao.value_counts()"
   ]
  },
  {
   "cell_type": "code",
   "execution_count": 7,
   "metadata": {},
   "outputs": [],
   "source": [
    "status_aprovado = ['APROVADO', 'APROVADO POR NOTA']\n",
    "\n",
    "matriculas_geral['reprovou'] = matriculas_geral.descricao.apply(lambda x: False if x in status_aprovado else True)"
   ]
  },
  {
   "cell_type": "code",
   "execution_count": 8,
   "metadata": {},
   "outputs": [],
   "source": [
    "columns_matriculas = ['discente', 'faltas_unidade',\n",
    "       'id_turma', 'media_final', 'nota', 'numero_total_faltas',\n",
    "       'reposicao', 'unidade', 'reprovou']\n",
    "matriculas_geral = matriculas_geral[columns_matriculas]"
   ]
  },
  {
   "cell_type": "code",
   "execution_count": 9,
   "metadata": {},
   "outputs": [],
   "source": [
    "matriculas_geral.to_csv(\"data/matriculas_geral_pos_preparacao.csv\", sep=';', index=False)"
   ]
  },
  {
   "cell_type": "markdown",
   "metadata": {},
   "source": [
    "### Importando os dados de turmas"
   ]
  },
  {
   "cell_type": "code",
   "execution_count": 10,
   "metadata": {},
   "outputs": [],
   "source": [
    "turmas_geral = pd.read_csv(\"data/turmas_geral_pos_limpeza.csv\", sep=\";\")\n",
    "# turmas_geral = pd.DataFrame()\n",
    "# for ano in lista_anos_analisados:\n",
    "#     turmas = pd.read_csv(f\"data/turmas_pos_limpeza_{ano}.csv\", sep=\";\")\n",
    "    \n",
    "#     turmas_geral = pd.concat([turmas_geral, turmas])"
   ]
  },
  {
   "cell_type": "code",
   "execution_count": 11,
   "metadata": {},
   "outputs": [
    {
     "data": {
      "text/plain": [
       "(2158, 6)"
      ]
     },
     "execution_count": 11,
     "metadata": {},
     "output_type": "execute_result"
    }
   ],
   "source": [
    "turmas_geral.shape"
   ]
  },
  {
   "cell_type": "code",
   "execution_count": 12,
   "metadata": {
    "scrolled": true
   },
   "outputs": [
    {
     "data": {
      "text/html": [
       "<div>\n",
       "<style scoped>\n",
       "    .dataframe tbody tr th:only-of-type {\n",
       "        vertical-align: middle;\n",
       "    }\n",
       "\n",
       "    .dataframe tbody tr th {\n",
       "        vertical-align: top;\n",
       "    }\n",
       "\n",
       "    .dataframe thead th {\n",
       "        text-align: right;\n",
       "    }\n",
       "</style>\n",
       "<table border=\"1\" class=\"dataframe\">\n",
       "  <thead>\n",
       "    <tr style=\"text-align: right;\">\n",
       "      <th></th>\n",
       "      <th>Unnamed: 0</th>\n",
       "      <th>id_turma</th>\n",
       "      <th>id_componente_curricular</th>\n",
       "      <th>id_docente_interno</th>\n",
       "      <th>ano_periodo</th>\n",
       "      <th>situacao_turma</th>\n",
       "    </tr>\n",
       "  </thead>\n",
       "  <tbody>\n",
       "    <tr>\n",
       "      <th>0</th>\n",
       "      <td>0</td>\n",
       "      <td>57595025</td>\n",
       "      <td>57586</td>\n",
       "      <td>3550015.0</td>\n",
       "      <td>Turmas_2017_1</td>\n",
       "      <td>CONSOLIDADA</td>\n",
       "    </tr>\n",
       "    <tr>\n",
       "      <th>1</th>\n",
       "      <td>1</td>\n",
       "      <td>57595026</td>\n",
       "      <td>57586</td>\n",
       "      <td>1756325.0</td>\n",
       "      <td>Turmas_2017_1</td>\n",
       "      <td>CONSOLIDADA</td>\n",
       "    </tr>\n",
       "    <tr>\n",
       "      <th>2</th>\n",
       "      <td>2</td>\n",
       "      <td>57595027</td>\n",
       "      <td>57586</td>\n",
       "      <td>1756325.0</td>\n",
       "      <td>Turmas_2017_1</td>\n",
       "      <td>CONSOLIDADA</td>\n",
       "    </tr>\n",
       "    <tr>\n",
       "      <th>3</th>\n",
       "      <td>3</td>\n",
       "      <td>57595028</td>\n",
       "      <td>57586</td>\n",
       "      <td>1753234.0</td>\n",
       "      <td>Turmas_2017_1</td>\n",
       "      <td>CONSOLIDADA</td>\n",
       "    </tr>\n",
       "    <tr>\n",
       "      <th>4</th>\n",
       "      <td>4</td>\n",
       "      <td>57595029</td>\n",
       "      <td>57586</td>\n",
       "      <td>6350665.0</td>\n",
       "      <td>Turmas_2017_1</td>\n",
       "      <td>CONSOLIDADA</td>\n",
       "    </tr>\n",
       "  </tbody>\n",
       "</table>\n",
       "</div>"
      ],
      "text/plain": [
       "   Unnamed: 0  id_turma  id_componente_curricular  id_docente_interno  \\\n",
       "0           0  57595025                     57586           3550015.0   \n",
       "1           1  57595026                     57586           1756325.0   \n",
       "2           2  57595027                     57586           1756325.0   \n",
       "3           3  57595028                     57586           1753234.0   \n",
       "4           4  57595029                     57586           6350665.0   \n",
       "\n",
       "     ano_periodo situacao_turma  \n",
       "0  Turmas_2017_1    CONSOLIDADA  \n",
       "1  Turmas_2017_1    CONSOLIDADA  \n",
       "2  Turmas_2017_1    CONSOLIDADA  \n",
       "3  Turmas_2017_1    CONSOLIDADA  \n",
       "4  Turmas_2017_1    CONSOLIDADA  "
      ]
     },
     "execution_count": 12,
     "metadata": {},
     "output_type": "execute_result"
    }
   ],
   "source": [
    "turmas_geral.head()"
   ]
  },
  {
   "cell_type": "code",
   "execution_count": 13,
   "metadata": {},
   "outputs": [
    {
     "data": {
      "text/plain": [
       "Index(['Unnamed: 0', 'id_turma', 'id_componente_curricular',\n",
       "       'id_docente_interno', 'ano_periodo', 'situacao_turma'],\n",
       "      dtype='object')"
      ]
     },
     "execution_count": 13,
     "metadata": {},
     "output_type": "execute_result"
    }
   ],
   "source": [
    "turmas_geral.columns"
   ]
  },
  {
   "cell_type": "code",
   "execution_count": 14,
   "metadata": {},
   "outputs": [],
   "source": [
    "columns_turma = ['id_turma', 'id_componente_curricular','id_docente_interno', 'ano_periodo']\n",
    "turmas_geral = turmas_geral[columns_turma]"
   ]
  },
  {
   "cell_type": "code",
   "execution_count": 15,
   "metadata": {},
   "outputs": [],
   "source": [
    "turmas_geral.to_csv(\"data/turmas_geral_pos_preparacao.csv\", sep=';', index=False)"
   ]
  },
  {
   "cell_type": "markdown",
   "metadata": {},
   "source": [
    "## Pegando apenas os dados de Cálculo II"
   ]
  },
  {
   "cell_type": "code",
   "execution_count": 22,
   "metadata": {},
   "outputs": [],
   "source": [
    "id_componente_c2 = ['48584', 57588, '2051052']\n",
    "turmas_c2 = turmas_geral[turmas_geral.id_componente_curricular.isin(id_componente_c2)]"
   ]
  },
  {
   "cell_type": "code",
   "execution_count": 23,
   "metadata": {},
   "outputs": [],
   "source": [
    "# Pegando apenas dos periodos que seram analisados: 2016.1, 2016.2, 2017.1\n",
    "turmas_c2 = turmas_c2[turmas_c2.ano_periodo.isin(['Turmas_2018_1', 'Turmas_2018_2', 'Turmas_2019_1'])]"
   ]
  },
  {
   "cell_type": "code",
   "execution_count": 24,
   "metadata": {},
   "outputs": [
    {
     "data": {
      "text/plain": [
       "2998751.0    3\n",
       "1680333.0    3\n",
       "2583622.0    2\n",
       "2646069.0    2\n",
       "1912054.0    2\n",
       "2141197.0    2\n",
       "1753781.0    1\n",
       "Name: id_docente_interno, dtype: int64"
      ]
     },
     "execution_count": 24,
     "metadata": {},
     "output_type": "execute_result"
    }
   ],
   "source": [
    "turmas_c2.id_docente_interno.value_counts()"
   ]
  },
  {
   "cell_type": "code",
   "execution_count": 25,
   "metadata": {},
   "outputs": [
    {
     "data": {
      "text/plain": [
       "3057895.0    65\n",
       "1481705.0    55\n",
       "1255011.0    55\n",
       "2254759.0    46\n",
       "1658061.0    46\n",
       "             ..\n",
       "1655461.0     4\n",
       "2384379.0     3\n",
       "1246519.0     3\n",
       "1640260.0     1\n",
       "2452782.0     1\n",
       "Name: id_docente_interno, Length: 123, dtype: int64"
      ]
     },
     "execution_count": 25,
     "metadata": {},
     "output_type": "execute_result"
    }
   ],
   "source": [
    "turmas_geral.id_docente_interno.value_counts()"
   ]
  },
  {
   "cell_type": "code",
   "execution_count": 26,
   "metadata": {},
   "outputs": [
    {
     "data": {
      "text/html": [
       "<div>\n",
       "<style scoped>\n",
       "    .dataframe tbody tr th:only-of-type {\n",
       "        vertical-align: middle;\n",
       "    }\n",
       "\n",
       "    .dataframe tbody tr th {\n",
       "        vertical-align: top;\n",
       "    }\n",
       "\n",
       "    .dataframe thead th {\n",
       "        text-align: right;\n",
       "    }\n",
       "</style>\n",
       "<table border=\"1\" class=\"dataframe\">\n",
       "  <thead>\n",
       "    <tr style=\"text-align: right;\">\n",
       "      <th></th>\n",
       "      <th>discente</th>\n",
       "      <th>faltas_unidade</th>\n",
       "      <th>id_turma</th>\n",
       "      <th>media_final</th>\n",
       "      <th>nota</th>\n",
       "      <th>numero_total_faltas</th>\n",
       "      <th>reposicao</th>\n",
       "      <th>unidade</th>\n",
       "      <th>reprovou</th>\n",
       "    </tr>\n",
       "  </thead>\n",
       "  <tbody>\n",
       "    <tr>\n",
       "      <th>15669</th>\n",
       "      <td>58a1cb3b87c4e66fa6f4ca54230be9e0</td>\n",
       "      <td>0.0</td>\n",
       "      <td>57616292</td>\n",
       "      <td>0,7</td>\n",
       "      <td>2,0</td>\n",
       "      <td>32.0</td>\n",
       "      <td>False</td>\n",
       "      <td>1.0</td>\n",
       "      <td>True</td>\n",
       "    </tr>\n",
       "    <tr>\n",
       "      <th>15670</th>\n",
       "      <td>58a1cb3b87c4e66fa6f4ca54230be9e0</td>\n",
       "      <td>0.0</td>\n",
       "      <td>57616292</td>\n",
       "      <td>0,7</td>\n",
       "      <td>0,0</td>\n",
       "      <td>32.0</td>\n",
       "      <td>False</td>\n",
       "      <td>2.0</td>\n",
       "      <td>True</td>\n",
       "    </tr>\n",
       "    <tr>\n",
       "      <th>15671</th>\n",
       "      <td>58a1cb3b87c4e66fa6f4ca54230be9e0</td>\n",
       "      <td>0.0</td>\n",
       "      <td>57616292</td>\n",
       "      <td>0,7</td>\n",
       "      <td>0,0</td>\n",
       "      <td>32.0</td>\n",
       "      <td>False</td>\n",
       "      <td>3.0</td>\n",
       "      <td>True</td>\n",
       "    </tr>\n",
       "    <tr>\n",
       "      <th>15672</th>\n",
       "      <td>abf219e724216524a585e780f0c63c0e</td>\n",
       "      <td>0.0</td>\n",
       "      <td>57616292</td>\n",
       "      <td>1,5</td>\n",
       "      <td>0,0</td>\n",
       "      <td>16.0</td>\n",
       "      <td>False</td>\n",
       "      <td>1.0</td>\n",
       "      <td>True</td>\n",
       "    </tr>\n",
       "    <tr>\n",
       "      <th>15673</th>\n",
       "      <td>abf219e724216524a585e780f0c63c0e</td>\n",
       "      <td>0.0</td>\n",
       "      <td>57616292</td>\n",
       "      <td>1,5</td>\n",
       "      <td>2,5</td>\n",
       "      <td>16.0</td>\n",
       "      <td>False</td>\n",
       "      <td>2.0</td>\n",
       "      <td>True</td>\n",
       "    </tr>\n",
       "    <tr>\n",
       "      <th>...</th>\n",
       "      <td>...</td>\n",
       "      <td>...</td>\n",
       "      <td>...</td>\n",
       "      <td>...</td>\n",
       "      <td>...</td>\n",
       "      <td>...</td>\n",
       "      <td>...</td>\n",
       "      <td>...</td>\n",
       "      <td>...</td>\n",
       "    </tr>\n",
       "    <tr>\n",
       "      <th>35662</th>\n",
       "      <td>6491bc49a57c50bcefa58b40eb7497a0</td>\n",
       "      <td>0.0</td>\n",
       "      <td>57636203</td>\n",
       "      <td>2,5</td>\n",
       "      <td>2,0</td>\n",
       "      <td>12.0</td>\n",
       "      <td>False</td>\n",
       "      <td>3.0</td>\n",
       "      <td>True</td>\n",
       "    </tr>\n",
       "    <tr>\n",
       "      <th>35663</th>\n",
       "      <td>6491bc49a57c50bcefa58b40eb7497a0</td>\n",
       "      <td>0.0</td>\n",
       "      <td>57636203</td>\n",
       "      <td>2,5</td>\n",
       "      <td>1,5</td>\n",
       "      <td>12.0</td>\n",
       "      <td>False</td>\n",
       "      <td>1.0</td>\n",
       "      <td>True</td>\n",
       "    </tr>\n",
       "    <tr>\n",
       "      <th>35664</th>\n",
       "      <td>e58d34e2bd87e68909e8cd0e1e46778c</td>\n",
       "      <td>0.0</td>\n",
       "      <td>57636203</td>\n",
       "      <td>5,0</td>\n",
       "      <td>0,5</td>\n",
       "      <td>8.0</td>\n",
       "      <td>True</td>\n",
       "      <td>1.0</td>\n",
       "      <td>False</td>\n",
       "    </tr>\n",
       "    <tr>\n",
       "      <th>35665</th>\n",
       "      <td>e58d34e2bd87e68909e8cd0e1e46778c</td>\n",
       "      <td>0.0</td>\n",
       "      <td>57636203</td>\n",
       "      <td>5,0</td>\n",
       "      <td>5,0</td>\n",
       "      <td>8.0</td>\n",
       "      <td>False</td>\n",
       "      <td>2.0</td>\n",
       "      <td>False</td>\n",
       "    </tr>\n",
       "    <tr>\n",
       "      <th>35666</th>\n",
       "      <td>e58d34e2bd87e68909e8cd0e1e46778c</td>\n",
       "      <td>0.0</td>\n",
       "      <td>57636203</td>\n",
       "      <td>5,0</td>\n",
       "      <td>5,5</td>\n",
       "      <td>8.0</td>\n",
       "      <td>False</td>\n",
       "      <td>3.0</td>\n",
       "      <td>False</td>\n",
       "    </tr>\n",
       "  </tbody>\n",
       "</table>\n",
       "<p>3186 rows × 9 columns</p>\n",
       "</div>"
      ],
      "text/plain": [
       "                               discente  faltas_unidade  id_turma media_final  \\\n",
       "15669  58a1cb3b87c4e66fa6f4ca54230be9e0             0.0  57616292         0,7   \n",
       "15670  58a1cb3b87c4e66fa6f4ca54230be9e0             0.0  57616292         0,7   \n",
       "15671  58a1cb3b87c4e66fa6f4ca54230be9e0             0.0  57616292         0,7   \n",
       "15672  abf219e724216524a585e780f0c63c0e             0.0  57616292         1,5   \n",
       "15673  abf219e724216524a585e780f0c63c0e             0.0  57616292         1,5   \n",
       "...                                 ...             ...       ...         ...   \n",
       "35662  6491bc49a57c50bcefa58b40eb7497a0             0.0  57636203         2,5   \n",
       "35663  6491bc49a57c50bcefa58b40eb7497a0             0.0  57636203         2,5   \n",
       "35664  e58d34e2bd87e68909e8cd0e1e46778c             0.0  57636203         5,0   \n",
       "35665  e58d34e2bd87e68909e8cd0e1e46778c             0.0  57636203         5,0   \n",
       "35666  e58d34e2bd87e68909e8cd0e1e46778c             0.0  57636203         5,0   \n",
       "\n",
       "      nota  numero_total_faltas  reposicao  unidade  reprovou  \n",
       "15669  2,0                 32.0      False      1.0      True  \n",
       "15670  0,0                 32.0      False      2.0      True  \n",
       "15671  0,0                 32.0      False      3.0      True  \n",
       "15672  0,0                 16.0      False      1.0      True  \n",
       "15673  2,5                 16.0      False      2.0      True  \n",
       "...    ...                  ...        ...      ...       ...  \n",
       "35662  2,0                 12.0      False      3.0      True  \n",
       "35663  1,5                 12.0      False      1.0      True  \n",
       "35664  0,5                  8.0       True      1.0     False  \n",
       "35665  5,0                  8.0      False      2.0     False  \n",
       "35666  5,5                  8.0      False      3.0     False  \n",
       "\n",
       "[3186 rows x 9 columns]"
      ]
     },
     "execution_count": 26,
     "metadata": {},
     "output_type": "execute_result"
    }
   ],
   "source": [
    "matriculas_geral[matriculas_geral.id_turma.isin(turmas_c2.id_turma.unique())]"
   ]
  }
 ],
 "metadata": {
  "kernelspec": {
   "display_name": "Python 3",
   "language": "python",
   "name": "python3"
  },
  "language_info": {
   "codemirror_mode": {
    "name": "ipython",
    "version": 3
   },
   "file_extension": ".py",
   "mimetype": "text/x-python",
   "name": "python",
   "nbconvert_exporter": "python",
   "pygments_lexer": "ipython3",
   "version": "3.8.10"
  }
 },
 "nbformat": 4,
 "nbformat_minor": 2
}
