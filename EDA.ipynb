{
 "cells": [
  {
   "cell_type": "code",
   "execution_count": 2,
   "metadata": {},
   "outputs": [],
   "source": [
    "import pandas as pd\n",
    "import requests\n"
   ]
  },
  {
   "cell_type": "markdown",
   "metadata": {},
   "source": [
    "### Declarando Algumas Funções utilitarias"
   ]
  },
  {
   "cell_type": "code",
   "execution_count": 11,
   "metadata": {},
   "outputs": [],
   "source": [
    "#Declaração de algumas fuções utilitarias\n",
    "\n",
    "def download_csv(ulrs_dict, folder = \"data\"):\n",
    "        \"\"\"\n",
    "        Faz o download de arquivos csv dado um decionário de URL's e salva em uma pasta definida\n",
    "        Args:\n",
    "                urls_dict (dic): Dicionário com as URL's de Download. Por padrão a pasta será \"data\"\n",
    "                folder (str): Nome da pasta que o arquivo csv deve ser inserido \n",
    "        Return:\n",
    "                void.\n",
    "        \n",
    "        \"\"\"\n",
    "        try:\n",
    "                for key in ulrs_dict:\n",
    "                        req = requests.get(ulrs_dict[key])\n",
    "                        url_content = req.content\n",
    " \n",
    "                        csv_file = open('{}/{}.csv'.format(folder,key), 'wb')\n",
    "                        csv_file.write(url_content)\n",
    "                        csv_file.close()\n",
    "        except:\n",
    "                print(\"Something Wrong!\")\n",
    "                exit()\n",
    "                \n",
    "        print(\"Downloaded!!\")\n",
    "\n",
    "def csv_df(urls_dict, folder=\"data\"):\n",
    "\n",
    "        \"\"\"\n",
    "        Cria dataframes dado uma pasta com os csv's  no seguinte pafrão : [nome_do_csv]_[periodo_de_referencia]\n",
    "        Args:\n",
    "                urls_dict (dic): Dicionário com as URL's de Download.\n",
    "                folder (str): Nome da pasta onde estão os arquivos. Por padrão a pasta será \"data\"\n",
    "        Return:\n",
    "                df (Dataframe): dataframe com a combinação de todos os csv's inseridos\n",
    "        \n",
    "        \"\"\"\n",
    "        df = pd.DataFrame()\n",
    "\n",
    "        for key in urls_dict:\n",
    "                csv_dataframe = pd.read_csv(\"{}/{}.csv\".format(folder, key), sep=\";\")\n",
    "                csv_dataframe['semestre'] = key[-6:]\n",
    "        \n",
    "                df = df.append(csv_dataframe, ignore_index=True)\n",
    "                \n",
    "        print(\"Converted!\")\n",
    "        return df\n",
    "    "
   ]
  },
  {
   "cell_type": "markdown",
   "metadata": {},
   "source": [
    "### Load dos csvs de matrículas"
   ]
  },
  {
   "cell_type": "code",
   "execution_count": 12,
   "metadata": {},
   "outputs": [
    {
     "name": "stdout",
     "output_type": "stream",
     "text": [
      "Downloaded!!\n",
      "Converted!\n"
     ]
    }
   ],
   "source": [
    "urls_matriculas = {\n",
    "        \"Matriculas_2018_1\" : \"https://dados.ufrn.br/dataset/c8650d55-3c5a-4787-a126-d28a4ef902a6/resource/3c1feba4-ced1-466e-8e94-a040224a51dc/download/matricula-componente-20181.csv\",\n",
    "        \"Matriculas_2018_2\" : \"https://dados.ufrn.br/dataset/c8650d55-3c5a-4787-a126-d28a4ef902a6/resource/0bfcaf6a-4424-4983-8ba8-d330350a8fbe/download/matricula-componente-20182.csv\"\n",
    "        }\n",
    "\n",
    "download_csv(urls_matriculas)\n",
    "\n",
    "matriculas = csv_df(urls_matriculas)\n",
    "\n"
   ]
  },
  {
   "cell_type": "code",
   "execution_count": 15,
   "metadata": {},
   "outputs": [],
   "source": [
    "# Separando Amostra de interesse:\n",
    "\n",
    "# ID do Curso BCH em Ciências e tecnologia = 10320810\n",
    "id_cet = 10320810\n",
    "matriculas_cet = matriculas[matriculas.id_curso == id_cet]\n"
   ]
  },
  {
   "cell_type": "code",
   "execution_count": 16,
   "metadata": {},
   "outputs": [
    {
     "data": {
      "text/html": [
       "<div>\n",
       "<style scoped>\n",
       "    .dataframe tbody tr th:only-of-type {\n",
       "        vertical-align: middle;\n",
       "    }\n",
       "\n",
       "    .dataframe tbody tr th {\n",
       "        vertical-align: top;\n",
       "    }\n",
       "\n",
       "    .dataframe thead th {\n",
       "        text-align: right;\n",
       "    }\n",
       "</style>\n",
       "<table border=\"1\" class=\"dataframe\">\n",
       "  <thead>\n",
       "    <tr style=\"text-align: right;\">\n",
       "      <th></th>\n",
       "      <th>id_turma</th>\n",
       "      <th>discente</th>\n",
       "      <th>id_curso</th>\n",
       "      <th>unidade</th>\n",
       "      <th>nota</th>\n",
       "      <th>reposicao</th>\n",
       "      <th>faltas_unidade</th>\n",
       "      <th>media_final</th>\n",
       "      <th>numero_total_faltas</th>\n",
       "      <th>descricao</th>\n",
       "      <th>semestre</th>\n",
       "    </tr>\n",
       "  </thead>\n",
       "  <tbody>\n",
       "    <tr>\n",
       "      <th>1269</th>\n",
       "      <td>57618131</td>\n",
       "      <td>0a6e5a96bb0c7be8ea7bfd46be7a5184</td>\n",
       "      <td>10320810.0</td>\n",
       "      <td>NaN</td>\n",
       "      <td>NaN</td>\n",
       "      <td>NaN</td>\n",
       "      <td>NaN</td>\n",
       "      <td>NaN</td>\n",
       "      <td>NaN</td>\n",
       "      <td>INDEFERIDO</td>\n",
       "      <td>2018_1</td>\n",
       "    </tr>\n",
       "    <tr>\n",
       "      <th>1270</th>\n",
       "      <td>57618131</td>\n",
       "      <td>0a6e5a96bb0c7be8ea7bfd46be7a5184</td>\n",
       "      <td>10320810.0</td>\n",
       "      <td>1.0</td>\n",
       "      <td>3,0</td>\n",
       "      <td>False</td>\n",
       "      <td>0.0</td>\n",
       "      <td>6,0</td>\n",
       "      <td>12.0</td>\n",
       "      <td>APROVADO POR NOTA</td>\n",
       "      <td>2018_1</td>\n",
       "    </tr>\n",
       "    <tr>\n",
       "      <th>1271</th>\n",
       "      <td>57618131</td>\n",
       "      <td>0a6e5a96bb0c7be8ea7bfd46be7a5184</td>\n",
       "      <td>10320810.0</td>\n",
       "      <td>2.0</td>\n",
       "      <td>6,5</td>\n",
       "      <td>False</td>\n",
       "      <td>0.0</td>\n",
       "      <td>6,0</td>\n",
       "      <td>12.0</td>\n",
       "      <td>APROVADO POR NOTA</td>\n",
       "      <td>2018_1</td>\n",
       "    </tr>\n",
       "    <tr>\n",
       "      <th>1272</th>\n",
       "      <td>57618131</td>\n",
       "      <td>0a6e5a96bb0c7be8ea7bfd46be7a5184</td>\n",
       "      <td>10320810.0</td>\n",
       "      <td>3.0</td>\n",
       "      <td>8,5</td>\n",
       "      <td>False</td>\n",
       "      <td>0.0</td>\n",
       "      <td>6,0</td>\n",
       "      <td>12.0</td>\n",
       "      <td>APROVADO POR NOTA</td>\n",
       "      <td>2018_1</td>\n",
       "    </tr>\n",
       "    <tr>\n",
       "      <th>1273</th>\n",
       "      <td>57618131</td>\n",
       "      <td>028467035e9d9396dca378d96f928c46</td>\n",
       "      <td>10320810.0</td>\n",
       "      <td>1.0</td>\n",
       "      <td>5,0</td>\n",
       "      <td>False</td>\n",
       "      <td>0.0</td>\n",
       "      <td>6,0</td>\n",
       "      <td>0.0</td>\n",
       "      <td>APROVADO POR NOTA</td>\n",
       "      <td>2018_1</td>\n",
       "    </tr>\n",
       "  </tbody>\n",
       "</table>\n",
       "</div>"
      ],
      "text/plain": [
       "      id_turma                          discente    id_curso  unidade nota  \\\n",
       "1269  57618131  0a6e5a96bb0c7be8ea7bfd46be7a5184  10320810.0      NaN  NaN   \n",
       "1270  57618131  0a6e5a96bb0c7be8ea7bfd46be7a5184  10320810.0      1.0  3,0   \n",
       "1271  57618131  0a6e5a96bb0c7be8ea7bfd46be7a5184  10320810.0      2.0  6,5   \n",
       "1272  57618131  0a6e5a96bb0c7be8ea7bfd46be7a5184  10320810.0      3.0  8,5   \n",
       "1273  57618131  028467035e9d9396dca378d96f928c46  10320810.0      1.0  5,0   \n",
       "\n",
       "     reposicao  faltas_unidade media_final  numero_total_faltas  \\\n",
       "1269       NaN             NaN         NaN                  NaN   \n",
       "1270     False             0.0         6,0                 12.0   \n",
       "1271     False             0.0         6,0                 12.0   \n",
       "1272     False             0.0         6,0                 12.0   \n",
       "1273     False             0.0         6,0                  0.0   \n",
       "\n",
       "              descricao semestre  \n",
       "1269         INDEFERIDO   2018_1  \n",
       "1270  APROVADO POR NOTA   2018_1  \n",
       "1271  APROVADO POR NOTA   2018_1  \n",
       "1272  APROVADO POR NOTA   2018_1  \n",
       "1273  APROVADO POR NOTA   2018_1  "
      ]
     },
     "execution_count": 16,
     "metadata": {},
     "output_type": "execute_result"
    }
   ],
   "source": [
    "matriculas_cet.head()"
   ]
  },
  {
   "cell_type": "markdown",
   "metadata": {},
   "source": [
    "### Load dos csvs das turmas ofertadas"
   ]
  },
  {
   "cell_type": "code",
   "execution_count": 18,
   "metadata": {},
   "outputs": [
    {
     "name": "stdout",
     "output_type": "stream",
     "text": [
      "Downloaded!!\n",
      "Converted!\n"
     ]
    }
   ],
   "source": [
    "urls_turmas = {\n",
    "        \"Turmas_2018_1\" : \"https://dados.ufrn.br/dataset/1938623d-fb07-41a4-a55a-1691f7c3b8b5/resource/3ae16138-4214-4a30-ac2d-6cffd6237031/download/turmas-2018.1.csv\",\n",
    "        \"Turmas_2018_2\" : \"https://dados.ufrn.br/dataset/1938623d-fb07-41a4-a55a-1691f7c3b8b5/resource/77fe7603-0e71-4e21-8cd4-cb823353023f/download/turmas-2018.2.csv\"\n",
    "}\n",
    "\n",
    "download_csv(urls_turmas)\n",
    "turmas = csv_df(urls_turmas)"
   ]
  },
  {
   "cell_type": "code",
   "execution_count": 19,
   "metadata": {},
   "outputs": [],
   "source": [
    "#Filtrando colunas de interesse \n",
    "\n",
    "columns_sel = ['id_turma', 'id_componente_curricular','siape', 'semestre', 'situacao_turma']\n",
    "\n",
    "turmas = turmas.loc[:, columns_sel]"
   ]
  },
  {
   "cell_type": "code",
   "execution_count": 20,
   "metadata": {},
   "outputs": [],
   "source": [
    "# Selecionando apenas as turmas de CET\n",
    "id_turmas_cet = matriculas_cet.id_turma.unique()\n",
    "turmas_cet = turmas[turmas.id_turma.isin(id_turmas_cet)]"
   ]
  },
  {
   "cell_type": "markdown",
   "metadata": {},
   "source": [
    "### Load do csv de componentes curriculares "
   ]
  },
  {
   "cell_type": "code",
   "execution_count": 21,
   "metadata": {},
   "outputs": [
    {
     "name": "stdout",
     "output_type": "stream",
     "text": [
      "Downloaded!!\n",
      "Converted!\n"
     ]
    }
   ],
   "source": [
    "url_componentes_curriculares = {\n",
    "        \"ComponentesCurriculares\" : \"https://dados.ufrn.br/dataset/3fea67e8-6916-4ed0-aaa6-9a8ca06a9bdc/resource/9a3521d2-4bc5-4fda-93f0-f701c8a20727/download/componentes-curriculares-presenciais.csv\"\n",
    "        }\n",
    "\n",
    "download_csv(url_componentes_curriculares)\n",
    "componentes_curriculares = csv_df(url_componentes_curriculares)"
   ]
  },
  {
   "cell_type": "markdown",
   "metadata": {},
   "source": [
    "### Filtragens e manipulações"
   ]
  },
  {
   "cell_type": "code",
   "execution_count": 22,
   "metadata": {},
   "outputs": [],
   "source": [
    "# Selecionando os componentes curriculares de Cet\n",
    "cc_ect = componentes_curriculares[componentes_curriculares.unidade_responsavel == 'ESCOLA DE CIÊNCIAS E TECNOLOGIA']"
   ]
  },
  {
   "cell_type": "code",
   "execution_count": 23,
   "metadata": {},
   "outputs": [],
   "source": [
    "# Juntando com o dataframe de turmas ofertadas \n",
    "turmas_cet_cc = turmas_cet.merge(cc_ect, how=\"inner\", left_on=\"id_componente_curricular\", right_on=\"id_componente\")"
   ]
  },
  {
   "cell_type": "code",
   "execution_count": 24,
   "metadata": {},
   "outputs": [],
   "source": [
    "# Selecionando dados das turmas de interesse\n",
    "disciplinas_desejadas_nome = ['PRÉ-CÁLCULO', 'VETORES E GEOMETRIA ANALÍTICA', 'CÁLCULO I', 'CÁLCULO II']\n",
    "\n",
    "turmas_cet_interesse = turmas_cet_cc[turmas_cet_cc.nome.isin(disciplinas_desejadas_nome)]"
   ]
  },
  {
   "cell_type": "code",
   "execution_count": 25,
   "metadata": {},
   "outputs": [],
   "source": [
    "#Montando dataset com as matrículas das turmas de interesse\n",
    "\n",
    "matriculas_selecionadas = matriculas_cet.merge(turmas_cet_interesse, on=\"id_turma\")"
   ]
  },
  {
   "cell_type": "code",
   "execution_count": 26,
   "metadata": {},
   "outputs": [],
   "source": [
    "# Excluindo status indesejáveis\n",
    "status_indesejados = ['INDEFERIDO', 'EXCLUIDA', 'TRANCADO', 'DESISTENCIA', 'CANCELADO']\n",
    "\n",
    "matriculas_selecionadas = matriculas_selecionadas[~matriculas_selecionadas.descricao.isin(status_indesejados)]"
   ]
  },
  {
   "cell_type": "code",
   "execution_count": 27,
   "metadata": {},
   "outputs": [
    {
     "data": {
      "text/plain": [
       "Index(['id_turma', 'discente', 'id_curso', 'unidade', 'nota', 'reposicao',\n",
       "       'faltas_unidade', 'media_final', 'numero_total_faltas', 'descricao',\n",
       "       'semestre', 'id_componente_curricular', 'siape', 'semestre_x',\n",
       "       'situacao_turma', 'id_componente', 'tipo_componente', 'codigo', 'nivel',\n",
       "       'nome', 'unidade_responsavel', 'ch_teorico', 'ch_pratico', 'ch_estagio',\n",
       "       'ch_total', 'ch_dedicada_docente', 'ch_ead', 'cr_max_ead',\n",
       "       'permite_horario_flexivel', 'qtd_unidades', 'procedimentos_avaliacao',\n",
       "       'equivalencia', 'pre_requisito', 'co_requisito', 'ementa',\n",
       "       'bibliografia', 'objetivos', 'conteudo', 'competencias_habilidades',\n",
       "       'referencias', 'ano_programa', 'periodo_programa', 'modalidade',\n",
       "       'curso_componente', 'semestre_y'],\n",
       "      dtype='object')"
      ]
     },
     "execution_count": 27,
     "metadata": {},
     "output_type": "execute_result"
    }
   ],
   "source": [
    "matriculas_selecionadas.columns"
   ]
  },
  {
   "cell_type": "code",
   "execution_count": 28,
   "metadata": {},
   "outputs": [],
   "source": [
    "status_aprovado = ['APROVADO', 'APROVADO POR NOTA']\n",
    "\n",
    "matriculas_selecionadas['reprovou'] = matriculas_selecionadas.descricao.apply(lambda x: False if x in status_aprovado else True)"
   ]
  },
  {
   "cell_type": "code",
   "execution_count": 29,
   "metadata": {},
   "outputs": [],
   "source": [
    "culunas_de_interesse = ['discente', 'unidade', 'nota', 'reposicao', 'reprovou', 'faltas_unidade', 'media_final', 'numero_total_faltas', 'siape', 'nome']\n",
    "\n",
    "matriculas_selecionadas = matriculas_selecionadas.loc[:, culunas_de_interesse]\n",
    "matriculas_selecionadas.rename(columns={'nome' : 'nome_componente'}, inplace=True)"
   ]
  },
  {
   "cell_type": "code",
   "execution_count": 35,
   "metadata": {},
   "outputs": [
    {
     "data": {
      "text/html": [
       "<div>\n",
       "<style scoped>\n",
       "    .dataframe tbody tr th:only-of-type {\n",
       "        vertical-align: middle;\n",
       "    }\n",
       "\n",
       "    .dataframe tbody tr th {\n",
       "        vertical-align: top;\n",
       "    }\n",
       "\n",
       "    .dataframe thead th {\n",
       "        text-align: right;\n",
       "    }\n",
       "</style>\n",
       "<table border=\"1\" class=\"dataframe\">\n",
       "  <thead>\n",
       "    <tr style=\"text-align: right;\">\n",
       "      <th></th>\n",
       "      <th>discente</th>\n",
       "      <th>unidade</th>\n",
       "      <th>nota</th>\n",
       "      <th>reposicao</th>\n",
       "      <th>reprovou</th>\n",
       "      <th>faltas_unidade</th>\n",
       "      <th>media_final</th>\n",
       "      <th>numero_total_faltas</th>\n",
       "      <th>siape</th>\n",
       "      <th>nome_componente</th>\n",
       "    </tr>\n",
       "  </thead>\n",
       "  <tbody>\n",
       "    <tr>\n",
       "      <th>1</th>\n",
       "      <td>2b8e11f6c6329ca8022a56803c0e477c</td>\n",
       "      <td>2.0</td>\n",
       "      <td>0,0</td>\n",
       "      <td>False</td>\n",
       "      <td>True</td>\n",
       "      <td>0.0</td>\n",
       "      <td>0,2</td>\n",
       "      <td>22.0</td>\n",
       "      <td>1671983.0</td>\n",
       "      <td>CÁLCULO I</td>\n",
       "    </tr>\n",
       "    <tr>\n",
       "      <th>2</th>\n",
       "      <td>2b8e11f6c6329ca8022a56803c0e477c</td>\n",
       "      <td>3.0</td>\n",
       "      <td>0,5</td>\n",
       "      <td>False</td>\n",
       "      <td>True</td>\n",
       "      <td>0.0</td>\n",
       "      <td>0,2</td>\n",
       "      <td>22.0</td>\n",
       "      <td>1671983.0</td>\n",
       "      <td>CÁLCULO I</td>\n",
       "    </tr>\n",
       "    <tr>\n",
       "      <th>3</th>\n",
       "      <td>2b8e11f6c6329ca8022a56803c0e477c</td>\n",
       "      <td>1.0</td>\n",
       "      <td>0,0</td>\n",
       "      <td>False</td>\n",
       "      <td>True</td>\n",
       "      <td>0.0</td>\n",
       "      <td>0,2</td>\n",
       "      <td>22.0</td>\n",
       "      <td>1671983.0</td>\n",
       "      <td>CÁLCULO I</td>\n",
       "    </tr>\n",
       "    <tr>\n",
       "      <th>5</th>\n",
       "      <td>051ebf8466b8fa12bc1b20c00c6c167b</td>\n",
       "      <td>1.0</td>\n",
       "      <td>3,3</td>\n",
       "      <td>False</td>\n",
       "      <td>True</td>\n",
       "      <td>0.0</td>\n",
       "      <td>1,1</td>\n",
       "      <td>18.0</td>\n",
       "      <td>1671983.0</td>\n",
       "      <td>CÁLCULO I</td>\n",
       "    </tr>\n",
       "    <tr>\n",
       "      <th>6</th>\n",
       "      <td>051ebf8466b8fa12bc1b20c00c6c167b</td>\n",
       "      <td>2.0</td>\n",
       "      <td>0,0</td>\n",
       "      <td>False</td>\n",
       "      <td>True</td>\n",
       "      <td>0.0</td>\n",
       "      <td>1,1</td>\n",
       "      <td>18.0</td>\n",
       "      <td>1671983.0</td>\n",
       "      <td>CÁLCULO I</td>\n",
       "    </tr>\n",
       "  </tbody>\n",
       "</table>\n",
       "</div>"
      ],
      "text/plain": [
       "                           discente  unidade nota reposicao  reprovou  \\\n",
       "1  2b8e11f6c6329ca8022a56803c0e477c      2.0  0,0     False      True   \n",
       "2  2b8e11f6c6329ca8022a56803c0e477c      3.0  0,5     False      True   \n",
       "3  2b8e11f6c6329ca8022a56803c0e477c      1.0  0,0     False      True   \n",
       "5  051ebf8466b8fa12bc1b20c00c6c167b      1.0  3,3     False      True   \n",
       "6  051ebf8466b8fa12bc1b20c00c6c167b      2.0  0,0     False      True   \n",
       "\n",
       "   faltas_unidade media_final  numero_total_faltas      siape nome_componente  \n",
       "1             0.0         0,2                 22.0  1671983.0       CÁLCULO I  \n",
       "2             0.0         0,2                 22.0  1671983.0       CÁLCULO I  \n",
       "3             0.0         0,2                 22.0  1671983.0       CÁLCULO I  \n",
       "5             0.0         1,1                 18.0  1671983.0       CÁLCULO I  \n",
       "6             0.0         1,1                 18.0  1671983.0       CÁLCULO I  "
      ]
     },
     "execution_count": 35,
     "metadata": {},
     "output_type": "execute_result"
    }
   ],
   "source": [
    "matriculas_selecionadas.head()"
   ]
  }
 ],
 "metadata": {
  "interpreter": {
   "hash": "916dbcbb3f70747c44a77c7bcd40155683ae19c65e1c03b4aa3499c5328201f1"
  },
  "kernelspec": {
   "display_name": "Python 3.8.10 64-bit",
   "language": "python",
   "name": "python3"
  },
  "language_info": {
   "codemirror_mode": {
    "name": "ipython",
    "version": 3
   },
   "file_extension": ".py",
   "mimetype": "text/x-python",
   "name": "python",
   "nbconvert_exporter": "python",
   "pygments_lexer": "ipython3",
   "version": "3.8.10"
  },
  "orig_nbformat": 4
 },
 "nbformat": 4,
 "nbformat_minor": 2
}
