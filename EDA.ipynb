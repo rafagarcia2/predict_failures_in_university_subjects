{
 "cells": [
  {
   "cell_type": "code",
   "execution_count": 32,
   "metadata": {},
   "outputs": [],
   "source": [
    "import pandas as pd\n",
    "import requests\n"
   ]
  },
  {
   "cell_type": "markdown",
   "metadata": {},
   "source": [
    "### Declarando Algumas Funções utilitarias"
   ]
  },
  {
   "cell_type": "code",
   "execution_count": 129,
   "metadata": {},
   "outputs": [],
   "source": [
    "#Declaração de algumas fuções utilitarias\n",
    "\n",
    "def download_csv(ulrs_dict, folder = \"Dataset\"):\n",
    "        try:\n",
    "                for key in ulrs_dict:\n",
    "                        req = requests.get(ulrs_dict[key])\n",
    "                        url_content = req.content\n",
    " \n",
    "                        csv_file = open('{}/{}.csv'.format(folder,key), 'wb')\n",
    "                        csv_file.write(url_content)\n",
    "                        csv_file.close()\n",
    "        except:\n",
    "                print(\"Something Wrong!\")\n",
    "                exit()\n",
    "                \n",
    "        print(\"Downloaded!!\")\n",
    "\n",
    "def csv_df(urls_dict, delimiter = 0, folder=\"Dataset\"):\n",
    "\n",
    "        df = pd.DataFrame()\n",
    "\n",
    "        for key in urls_dict:\n",
    "                csv_dataframe = pd.read_csv(\"{}/{}.csv\".format(folder, key), sep=\";\")\n",
    "                csv_dataframe['semestre'] = key[delimiter:]\n",
    "        \n",
    "                df = df.append(csv_dataframe, ignore_index=True)\n",
    "                \n",
    "        print(\"Converted!\")\n",
    "        return df\n",
    "    "
   ]
  },
  {
   "cell_type": "markdown",
   "metadata": {},
   "source": [
    "### Load dos csvs de matrículas"
   ]
  },
  {
   "cell_type": "code",
   "execution_count": null,
   "metadata": {},
   "outputs": [],
   "source": [
    "urls_matriculas = {\n",
    "        \"Matriculas_2018_1\" : \"https://dados.ufrn.br/dataset/c8650d55-3c5a-4787-a126-d28a4ef902a6/resource/3c1feba4-ced1-466e-8e94-a040224a51dc/download/matricula-componente-20181.csv\",\n",
    "        \"Matriculas_2018_2\" : \"https://dados.ufrn.br/dataset/c8650d55-3c5a-4787-a126-d28a4ef902a6/resource/0bfcaf6a-4424-4983-8ba8-d330350a8fbe/download/matricula-componente-20182.csv\"\n",
    "        }\n",
    "\n",
    "download_csv(urls_matriculas)\n",
    "\n",
    "matriculas = csv_df(urls_matriculas, 11)\n",
    "\n"
   ]
  },
  {
   "cell_type": "code",
   "execution_count": 215,
   "metadata": {},
   "outputs": [],
   "source": [
    "# Separando Amostra de interesse:\n",
    "\n",
    "# ID do Curso BCH em Ciências e tecnologia = 10320810\n",
    "id_cet = 10320810\n",
    "matriculas_cet = matriculas[matriculas.id_curso == id_cet]\n"
   ]
  },
  {
   "cell_type": "code",
   "execution_count": null,
   "metadata": {},
   "outputs": [],
   "source": [
    "matriculas_cet.head()"
   ]
  },
  {
   "cell_type": "markdown",
   "metadata": {},
   "source": [
    "### Load dos csvs das turmas ofertadas"
   ]
  },
  {
   "cell_type": "code",
   "execution_count": null,
   "metadata": {},
   "outputs": [],
   "source": [
    "urls_turmas = {\n",
    "        \"Turmas_2018_1\" : \"https://dados.ufrn.br/dataset/1938623d-fb07-41a4-a55a-1691f7c3b8b5/resource/3ae16138-4214-4a30-ac2d-6cffd6237031/download/turmas-2018.1.csv\",\n",
    "        \"Turmas_2018_2\" : \"https://dados.ufrn.br/dataset/1938623d-fb07-41a4-a55a-1691f7c3b8b5/resource/77fe7603-0e71-4e21-8cd4-cb823353023f/download/turmas-2018.2.csv\"\n",
    "}\n",
    "\n",
    "download_csv(urls_turmas)\n",
    "turmas = csv_df(urls_turmas, 7)"
   ]
  },
  {
   "cell_type": "code",
   "execution_count": 219,
   "metadata": {},
   "outputs": [],
   "source": [
    "#Filtrando colunas de interesse \n",
    "\n",
    "columns_sel = ['id_turma', 'id_componente_curricular','siape', 'semestre', 'situacao_turma']\n",
    "\n",
    "turmas = turmas.loc[:, columns_sel]"
   ]
  },
  {
   "cell_type": "code",
   "execution_count": 220,
   "metadata": {},
   "outputs": [],
   "source": [
    "# Selecionando apenas as turmas de CET\n",
    "id_turmas_cet = matriculas_cet.id_turma.unique()\n",
    "turmas_cet = turmas[turmas.id_turma.isin(id_turmas_cet)]"
   ]
  },
  {
   "cell_type": "markdown",
   "metadata": {},
   "source": [
    "### Load do csv de componentes curriculares "
   ]
  },
  {
   "cell_type": "code",
   "execution_count": null,
   "metadata": {},
   "outputs": [],
   "source": [
    "url_componentes_curriculares = {\n",
    "        \"ComponentesCurriculares\" : \"https://dados.ufrn.br/dataset/3fea67e8-6916-4ed0-aaa6-9a8ca06a9bdc/resource/9a3521d2-4bc5-4fda-93f0-f701c8a20727/download/componentes-curriculares-presenciais.csv\"\n",
    "        }\n",
    "\n",
    "download_csv(url_componentes_curriculares)\n",
    "componentes_curriculares = csv_df(url_componentes_curriculares)"
   ]
  },
  {
   "cell_type": "markdown",
   "metadata": {},
   "source": [
    "### Filtragens e manipulações"
   ]
  },
  {
   "cell_type": "code",
   "execution_count": 222,
   "metadata": {},
   "outputs": [],
   "source": [
    "# Selecionando os componentes curriculares de Cet\n",
    "cc_ect = componentes_curriculares[componentes_curriculares.unidade_responsavel == 'ESCOLA DE CIÊNCIAS E TECNOLOGIA']"
   ]
  },
  {
   "cell_type": "code",
   "execution_count": 223,
   "metadata": {},
   "outputs": [],
   "source": [
    "# Juntando com o dataframe de turmas ofertadas \n",
    "turmas_cet_cc = turmas_cet.merge(cc_ect, how=\"inner\", left_on=\"id_componente_curricular\", right_on=\"id_componente\")"
   ]
  },
  {
   "cell_type": "code",
   "execution_count": 246,
   "metadata": {},
   "outputs": [],
   "source": [
    "# Selecionando dados das turmas de interesse\n",
    "disciplinas_desejadas_nome = ['PRÉ-CÁLCULO', 'VETORES E GEOMETRIA ANALÍTICA', 'CÁLCULO I', 'CÁLCULO II']\n",
    "\n",
    "turmas_cet_interesse = turmas_cet_cc[turmas_cet_cc.nome.isin(disciplinas_desejadas_nome)]"
   ]
  },
  {
   "cell_type": "code",
   "execution_count": 254,
   "metadata": {},
   "outputs": [],
   "source": [
    "#Montando dataset com as matrículas das turmas de interesse\n",
    "\n",
    "matriculas_selecionadas = matriculas_cet.merge(turmas_cet_interesse, on=\"id_turma\")"
   ]
  },
  {
   "cell_type": "code",
   "execution_count": 255,
   "metadata": {},
   "outputs": [],
   "source": [
    "# Excluindo status indesejáveis\n",
    "status_indesejados = ['INDEFERIDO', 'EXCLUIDA', 'TRANCADO', 'DESISTENCIA', 'CANCELADO']\n",
    "\n",
    "matriculas_selecionadas = matriculas_selecionadas[~matriculas_selecionadas.descricao.isin(status_indesejados)]"
   ]
  },
  {
   "cell_type": "code",
   "execution_count": 248,
   "metadata": {},
   "outputs": [
    {
     "data": {
      "text/plain": [
       "Index(['id_turma', 'discente', 'id_curso', 'unidade', 'nota', 'reposicao',\n",
       "       'faltas_unidade', 'media_final', 'numero_total_faltas', 'descricao',\n",
       "       'semestre', 'id_componente_curricular', 'siape', 'semestre_x',\n",
       "       'situacao_turma', 'id_componente', 'tipo_componente', 'codigo', 'nivel',\n",
       "       'nome', 'unidade_responsavel', 'ch_teorico', 'ch_pratico', 'ch_estagio',\n",
       "       'ch_total', 'ch_dedicada_docente', 'ch_ead', 'cr_max_ead',\n",
       "       'permite_horario_flexivel', 'qtd_unidades', 'procedimentos_avaliacao',\n",
       "       'equivalencia', 'pre_requisito', 'co_requisito', 'ementa',\n",
       "       'bibliografia', 'objetivos', 'conteudo', 'competencias_habilidades',\n",
       "       'referencias', 'ano_programa', 'periodo_programa', 'modalidade',\n",
       "       'curso_componente', 'semestre_y'],\n",
       "      dtype='object')"
      ]
     },
     "execution_count": 248,
     "metadata": {},
     "output_type": "execute_result"
    }
   ],
   "source": [
    "matriculas_selecionadas.columns"
   ]
  },
  {
   "cell_type": "code",
   "execution_count": 257,
   "metadata": {},
   "outputs": [],
   "source": [
    "status_aprovado = ['APROVADO', 'APROVADO POR NOTA']\n",
    "\n",
    "matriculas_selecionadas['reprovou'] = matriculas_selecionadas.descricao.apply(lambda x: False if x in status_aprovado else True)"
   ]
  },
  {
   "cell_type": "code",
   "execution_count": 258,
   "metadata": {},
   "outputs": [],
   "source": [
    "culunas_de_interesse = ['discente', 'unidade', 'nota', 'reposicao', 'reprovou', 'faltas_unidade', 'media_final', 'numero_total_faltas', 'siape', 'nome']\n",
    "\n",
    "matriculas_selecionadas = matriculas_selecionadas.loc[:, culunas_de_interesse]\n",
    "matriculas_selecionadas.rename(columns={'nome' : 'nome_componente'}, inplace=True)"
   ]
  },
  {
   "cell_type": "code",
   "execution_count": 259,
   "metadata": {},
   "outputs": [
    {
     "data": {
      "text/html": [
       "<div>\n",
       "<style scoped>\n",
       "    .dataframe tbody tr th:only-of-type {\n",
       "        vertical-align: middle;\n",
       "    }\n",
       "\n",
       "    .dataframe tbody tr th {\n",
       "        vertical-align: top;\n",
       "    }\n",
       "\n",
       "    .dataframe thead th {\n",
       "        text-align: right;\n",
       "    }\n",
       "</style>\n",
       "<table border=\"1\" class=\"dataframe\">\n",
       "  <thead>\n",
       "    <tr style=\"text-align: right;\">\n",
       "      <th></th>\n",
       "      <th>discente</th>\n",
       "      <th>unidade</th>\n",
       "      <th>nota</th>\n",
       "      <th>reposicao</th>\n",
       "      <th>reprovou</th>\n",
       "      <th>faltas_unidade</th>\n",
       "      <th>media_final</th>\n",
       "      <th>numero_total_faltas</th>\n",
       "      <th>siape</th>\n",
       "      <th>nome_componente</th>\n",
       "    </tr>\n",
       "  </thead>\n",
       "  <tbody>\n",
       "    <tr>\n",
       "      <th>1</th>\n",
       "      <td>2b8e11f6c6329ca8022a56803c0e477c</td>\n",
       "      <td>2.0</td>\n",
       "      <td>0,0</td>\n",
       "      <td>False</td>\n",
       "      <td>True</td>\n",
       "      <td>0.0</td>\n",
       "      <td>0,2</td>\n",
       "      <td>22.0</td>\n",
       "      <td>1671983.0</td>\n",
       "      <td>CÁLCULO I</td>\n",
       "    </tr>\n",
       "    <tr>\n",
       "      <th>2</th>\n",
       "      <td>2b8e11f6c6329ca8022a56803c0e477c</td>\n",
       "      <td>3.0</td>\n",
       "      <td>0,5</td>\n",
       "      <td>False</td>\n",
       "      <td>True</td>\n",
       "      <td>0.0</td>\n",
       "      <td>0,2</td>\n",
       "      <td>22.0</td>\n",
       "      <td>1671983.0</td>\n",
       "      <td>CÁLCULO I</td>\n",
       "    </tr>\n",
       "    <tr>\n",
       "      <th>3</th>\n",
       "      <td>2b8e11f6c6329ca8022a56803c0e477c</td>\n",
       "      <td>1.0</td>\n",
       "      <td>0,0</td>\n",
       "      <td>False</td>\n",
       "      <td>True</td>\n",
       "      <td>0.0</td>\n",
       "      <td>0,2</td>\n",
       "      <td>22.0</td>\n",
       "      <td>1671983.0</td>\n",
       "      <td>CÁLCULO I</td>\n",
       "    </tr>\n",
       "    <tr>\n",
       "      <th>5</th>\n",
       "      <td>051ebf8466b8fa12bc1b20c00c6c167b</td>\n",
       "      <td>1.0</td>\n",
       "      <td>3,3</td>\n",
       "      <td>False</td>\n",
       "      <td>True</td>\n",
       "      <td>0.0</td>\n",
       "      <td>1,1</td>\n",
       "      <td>18.0</td>\n",
       "      <td>1671983.0</td>\n",
       "      <td>CÁLCULO I</td>\n",
       "    </tr>\n",
       "    <tr>\n",
       "      <th>6</th>\n",
       "      <td>051ebf8466b8fa12bc1b20c00c6c167b</td>\n",
       "      <td>2.0</td>\n",
       "      <td>0,0</td>\n",
       "      <td>False</td>\n",
       "      <td>True</td>\n",
       "      <td>0.0</td>\n",
       "      <td>1,1</td>\n",
       "      <td>18.0</td>\n",
       "      <td>1671983.0</td>\n",
       "      <td>CÁLCULO I</td>\n",
       "    </tr>\n",
       "    <tr>\n",
       "      <th>...</th>\n",
       "      <td>...</td>\n",
       "      <td>...</td>\n",
       "      <td>...</td>\n",
       "      <td>...</td>\n",
       "      <td>...</td>\n",
       "      <td>...</td>\n",
       "      <td>...</td>\n",
       "      <td>...</td>\n",
       "      <td>...</td>\n",
       "      <td>...</td>\n",
       "    </tr>\n",
       "    <tr>\n",
       "      <th>20233</th>\n",
       "      <td>0ef84584b51b93eadcab39dbeea0979a</td>\n",
       "      <td>2.0</td>\n",
       "      <td>7,5</td>\n",
       "      <td>False</td>\n",
       "      <td>False</td>\n",
       "      <td>0.0</td>\n",
       "      <td>6,3</td>\n",
       "      <td>0.0</td>\n",
       "      <td>1753234.0</td>\n",
       "      <td>PRÉ-CÁLCULO</td>\n",
       "    </tr>\n",
       "    <tr>\n",
       "      <th>20234</th>\n",
       "      <td>0ef84584b51b93eadcab39dbeea0979a</td>\n",
       "      <td>3.0</td>\n",
       "      <td>1,0</td>\n",
       "      <td>True</td>\n",
       "      <td>False</td>\n",
       "      <td>0.0</td>\n",
       "      <td>6,3</td>\n",
       "      <td>0.0</td>\n",
       "      <td>1753234.0</td>\n",
       "      <td>PRÉ-CÁLCULO</td>\n",
       "    </tr>\n",
       "    <tr>\n",
       "      <th>20235</th>\n",
       "      <td>ce4324652dbb462c5bdb1d2bc3c1d32f</td>\n",
       "      <td>1.0</td>\n",
       "      <td>4,5</td>\n",
       "      <td>False</td>\n",
       "      <td>False</td>\n",
       "      <td>0.0</td>\n",
       "      <td>5,2</td>\n",
       "      <td>0.0</td>\n",
       "      <td>1753234.0</td>\n",
       "      <td>PRÉ-CÁLCULO</td>\n",
       "    </tr>\n",
       "    <tr>\n",
       "      <th>20236</th>\n",
       "      <td>ce4324652dbb462c5bdb1d2bc3c1d32f</td>\n",
       "      <td>2.0</td>\n",
       "      <td>6,0</td>\n",
       "      <td>False</td>\n",
       "      <td>False</td>\n",
       "      <td>0.0</td>\n",
       "      <td>5,2</td>\n",
       "      <td>0.0</td>\n",
       "      <td>1753234.0</td>\n",
       "      <td>PRÉ-CÁLCULO</td>\n",
       "    </tr>\n",
       "    <tr>\n",
       "      <th>20237</th>\n",
       "      <td>ce4324652dbb462c5bdb1d2bc3c1d32f</td>\n",
       "      <td>3.0</td>\n",
       "      <td>5,0</td>\n",
       "      <td>False</td>\n",
       "      <td>False</td>\n",
       "      <td>0.0</td>\n",
       "      <td>5,2</td>\n",
       "      <td>0.0</td>\n",
       "      <td>1753234.0</td>\n",
       "      <td>PRÉ-CÁLCULO</td>\n",
       "    </tr>\n",
       "  </tbody>\n",
       "</table>\n",
       "<p>15459 rows × 10 columns</p>\n",
       "</div>"
      ],
      "text/plain": [
       "                               discente  unidade nota reposicao  reprovou  \\\n",
       "1      2b8e11f6c6329ca8022a56803c0e477c      2.0  0,0     False      True   \n",
       "2      2b8e11f6c6329ca8022a56803c0e477c      3.0  0,5     False      True   \n",
       "3      2b8e11f6c6329ca8022a56803c0e477c      1.0  0,0     False      True   \n",
       "5      051ebf8466b8fa12bc1b20c00c6c167b      1.0  3,3     False      True   \n",
       "6      051ebf8466b8fa12bc1b20c00c6c167b      2.0  0,0     False      True   \n",
       "...                                 ...      ...  ...       ...       ...   \n",
       "20233  0ef84584b51b93eadcab39dbeea0979a      2.0  7,5     False     False   \n",
       "20234  0ef84584b51b93eadcab39dbeea0979a      3.0  1,0      True     False   \n",
       "20235  ce4324652dbb462c5bdb1d2bc3c1d32f      1.0  4,5     False     False   \n",
       "20236  ce4324652dbb462c5bdb1d2bc3c1d32f      2.0  6,0     False     False   \n",
       "20237  ce4324652dbb462c5bdb1d2bc3c1d32f      3.0  5,0     False     False   \n",
       "\n",
       "       faltas_unidade media_final  numero_total_faltas      siape  \\\n",
       "1                 0.0         0,2                 22.0  1671983.0   \n",
       "2                 0.0         0,2                 22.0  1671983.0   \n",
       "3                 0.0         0,2                 22.0  1671983.0   \n",
       "5                 0.0         1,1                 18.0  1671983.0   \n",
       "6                 0.0         1,1                 18.0  1671983.0   \n",
       "...               ...         ...                  ...        ...   \n",
       "20233             0.0         6,3                  0.0  1753234.0   \n",
       "20234             0.0         6,3                  0.0  1753234.0   \n",
       "20235             0.0         5,2                  0.0  1753234.0   \n",
       "20236             0.0         5,2                  0.0  1753234.0   \n",
       "20237             0.0         5,2                  0.0  1753234.0   \n",
       "\n",
       "      nome_componente  \n",
       "1           CÁLCULO I  \n",
       "2           CÁLCULO I  \n",
       "3           CÁLCULO I  \n",
       "5           CÁLCULO I  \n",
       "6           CÁLCULO I  \n",
       "...               ...  \n",
       "20233     PRÉ-CÁLCULO  \n",
       "20234     PRÉ-CÁLCULO  \n",
       "20235     PRÉ-CÁLCULO  \n",
       "20236     PRÉ-CÁLCULO  \n",
       "20237     PRÉ-CÁLCULO  \n",
       "\n",
       "[15459 rows x 10 columns]"
      ]
     },
     "execution_count": 259,
     "metadata": {},
     "output_type": "execute_result"
    }
   ],
   "source": [
    "matriculas_selecionadas"
   ]
  }
 ],
 "metadata": {
  "interpreter": {
   "hash": "916dbcbb3f70747c44a77c7bcd40155683ae19c65e1c03b4aa3499c5328201f1"
  },
  "kernelspec": {
   "display_name": "Python 3.8.10 64-bit",
   "language": "python",
   "name": "python3"
  },
  "language_info": {
   "codemirror_mode": {
    "name": "ipython",
    "version": 3
   },
   "file_extension": ".py",
   "mimetype": "text/x-python",
   "name": "python",
   "nbconvert_exporter": "python",
   "pygments_lexer": "ipython3",
   "version": "3.8.10"
  },
  "orig_nbformat": 4
 },
 "nbformat": 4,
 "nbformat_minor": 2
}
